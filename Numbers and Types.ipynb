{
 "cells": [
  {
   "cell_type": "markdown",
   "id": "b7c73645-8120-4bc0-8101-272cc05add61",
   "metadata": {},
   "source": [
    "# Module 01 \n",
    "## Chapters 3.1 - 3.6 "
   ]
  },
  {
   "cell_type": "code",
   "execution_count": 9,
   "id": "98443736-8791-4947-bb12-5be1e9902c7a",
   "metadata": {},
   "outputs": [
    {
     "data": {
      "text/plain": [
       "3600"
      ]
     },
     "execution_count": 9,
     "metadata": {},
     "output_type": "execute_result"
    }
   ],
   "source": [
    "# 3.1 How many seconds are in an hour?\n",
    "# Calculate seconds in an hour\n",
    "seconds_in_hour = 60 * 60\n",
    "seconds_in_hour"
   ]
  },
  {
   "cell_type": "code",
   "execution_count": 10,
   "id": "c2ef1314-c0dd-4bfa-8d06-054553f57380",
   "metadata": {},
   "outputs": [
    {
     "data": {
      "text/plain": [
       "3600"
      ]
     },
     "execution_count": 10,
     "metadata": {},
     "output_type": "execute_result"
    }
   ],
   "source": [
    "#3.2 Assign the result from the previous task to a variable called seconds_per_hour\n",
    "# Assign the value to a variable\n",
    "seconds_per_hour = seconds_in_hour\n",
    "seconds_per_hour"
   ]
  },
  {
   "cell_type": "code",
   "execution_count": 11,
   "id": "16011b6a-70ec-42dd-9de9-3c07b2d38ac0",
   "metadata": {},
   "outputs": [
    {
     "data": {
      "text/plain": [
       "86400"
      ]
     },
     "execution_count": 11,
     "metadata": {},
     "output_type": "execute_result"
    }
   ],
   "source": [
    "#3.3 How many seconds are in a day? Use your seconds_per_hour variable.\n",
    "# Calculate seconds in a day using the variable\n",
    "seconds_in_day = seconds_per_hour * 24\n",
    "seconds_in_day"
   ]
  },
  {
   "cell_type": "code",
   "execution_count": 12,
   "id": "e172095a-c64d-4451-b95c-1c3bc6dc34ca",
   "metadata": {},
   "outputs": [
    {
     "data": {
      "text/plain": [
       "86400"
      ]
     },
     "execution_count": 12,
     "metadata": {},
     "output_type": "execute_result"
    }
   ],
   "source": [
    "#3.4 Calculate seconds per day again, but this time save the result in a variable called seconds_per_day.\n",
    "# Assign the value to a variable called seconds_per_day\n",
    "seconds_per_day = seconds_per_hour * 24\n",
    "seconds_per_day"
   ]
  },
  {
   "cell_type": "code",
   "execution_count": 13,
   "id": "9a8e501e-83a3-404b-b8aa-b2f243a079eb",
   "metadata": {},
   "outputs": [
    {
     "data": {
      "text/plain": [
       "24.0"
      ]
     },
     "execution_count": 13,
     "metadata": {},
     "output_type": "execute_result"
    }
   ],
   "source": [
    "#3.5 Divide seconds_per_day by seconds_per_hour using floating-point division.\n",
    "# Floating-point division\n",
    "seconds_per_day / seconds_per_hour"
   ]
  },
  {
   "cell_type": "code",
   "execution_count": 14,
   "id": "0cba4570-c068-424f-94a4-2e711a4027dc",
   "metadata": {},
   "outputs": [
    {
     "data": {
      "text/plain": [
       "24"
      ]
     },
     "execution_count": 14,
     "metadata": {},
     "output_type": "execute_result"
    }
   ],
   "source": [
    "#3.6 Divide seconds_per_day by seconds_per_hour using integer (//) division.\n",
    "# Integer division\n",
    "seconds_per_day // seconds_per_hour"
   ]
  }
 ],
 "metadata": {
  "kernelspec": {
   "display_name": "Python 3 (ipykernel)",
   "language": "python",
   "name": "python3"
  },
  "language_info": {
   "codemirror_mode": {
    "name": "ipython",
    "version": 3
   },
   "file_extension": ".py",
   "mimetype": "text/x-python",
   "name": "python",
   "nbconvert_exporter": "python",
   "pygments_lexer": "ipython3",
   "version": "3.12.7"
  }
 },
 "nbformat": 4,
 "nbformat_minor": 5
}
